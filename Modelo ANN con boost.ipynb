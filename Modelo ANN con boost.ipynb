{
 "cells": [
  {
   "cell_type": "code",
   "execution_count": 25,
   "metadata": {},
   "outputs": [],
   "source": [
    "import numpy as np\n",
    "import pandas as pd\n",
    "import matplotlib.pyplot as plt\n",
    "import seaborn as sns"
   ]
  },
  {
   "cell_type": "code",
   "execution_count": 26,
   "metadata": {},
   "outputs": [],
   "source": [
    "df = pd.read_csv('./df_guardado_clean.csv')"
   ]
  },
  {
   "cell_type": "code",
   "execution_count": 27,
   "metadata": {
    "scrolled": true
   },
   "outputs": [
    {
     "data": {
      "text/html": [
       "<div>\n",
       "<style scoped>\n",
       "    .dataframe tbody tr th:only-of-type {\n",
       "        vertical-align: middle;\n",
       "    }\n",
       "\n",
       "    .dataframe tbody tr th {\n",
       "        vertical-align: top;\n",
       "    }\n",
       "\n",
       "    .dataframe thead th {\n",
       "        text-align: right;\n",
       "    }\n",
       "</style>\n",
       "<table border=\"1\" class=\"dataframe\">\n",
       "  <thead>\n",
       "    <tr style=\"text-align: right;\">\n",
       "      <th></th>\n",
       "      <th>order_id</th>\n",
       "      <th>Fecha</th>\n",
       "      <th>Hora</th>\n",
       "      <th>avg_actual_delivery_time_minutes</th>\n",
       "      <th>avg_promised_delivery_time_minutes</th>\n",
       "      <th>to_pickup</th>\n",
       "      <th>to_dropoff</th>\n",
       "      <th>Vendor_id</th>\n",
       "      <th>llueve</th>\n",
       "      <th>ph</th>\n",
       "    </tr>\n",
       "  </thead>\n",
       "  <tbody>\n",
       "    <tr>\n",
       "      <th>0</th>\n",
       "      <td>131748347</td>\n",
       "      <td>Viernes</td>\n",
       "      <td>13</td>\n",
       "      <td>69.100000</td>\n",
       "      <td>31.900000</td>\n",
       "      <td>1.348</td>\n",
       "      <td>0.489</td>\n",
       "      <td>1</td>\n",
       "      <td>1</td>\n",
       "      <td>0</td>\n",
       "    </tr>\n",
       "    <tr>\n",
       "      <th>1</th>\n",
       "      <td>131749603</td>\n",
       "      <td>Viernes</td>\n",
       "      <td>13</td>\n",
       "      <td>36.700000</td>\n",
       "      <td>30.883333</td>\n",
       "      <td>0.359</td>\n",
       "      <td>0.513</td>\n",
       "      <td>1</td>\n",
       "      <td>1</td>\n",
       "      <td>0</td>\n",
       "    </tr>\n",
       "    <tr>\n",
       "      <th>2</th>\n",
       "      <td>131748367</td>\n",
       "      <td>Viernes</td>\n",
       "      <td>13</td>\n",
       "      <td>32.833333</td>\n",
       "      <td>32.666667</td>\n",
       "      <td>0.735</td>\n",
       "      <td>0.684</td>\n",
       "      <td>1</td>\n",
       "      <td>1</td>\n",
       "      <td>0</td>\n",
       "    </tr>\n",
       "    <tr>\n",
       "      <th>3</th>\n",
       "      <td>131743177</td>\n",
       "      <td>Viernes</td>\n",
       "      <td>12</td>\n",
       "      <td>39.383333</td>\n",
       "      <td>40.600000</td>\n",
       "      <td>0.166</td>\n",
       "      <td>2.121</td>\n",
       "      <td>1</td>\n",
       "      <td>1</td>\n",
       "      <td>0</td>\n",
       "    </tr>\n",
       "    <tr>\n",
       "      <th>4</th>\n",
       "      <td>131738512</td>\n",
       "      <td>Viernes</td>\n",
       "      <td>11</td>\n",
       "      <td>29.450000</td>\n",
       "      <td>35.883333</td>\n",
       "      <td>2.924</td>\n",
       "      <td>2.898</td>\n",
       "      <td>1</td>\n",
       "      <td>1</td>\n",
       "      <td>0</td>\n",
       "    </tr>\n",
       "  </tbody>\n",
       "</table>\n",
       "</div>"
      ],
      "text/plain": [
       "    order_id    Fecha  Hora  avg_actual_delivery_time_minutes  \\\n",
       "0  131748347  Viernes    13                         69.100000   \n",
       "1  131749603  Viernes    13                         36.700000   \n",
       "2  131748367  Viernes    13                         32.833333   \n",
       "3  131743177  Viernes    12                         39.383333   \n",
       "4  131738512  Viernes    11                         29.450000   \n",
       "\n",
       "   avg_promised_delivery_time_minutes  to_pickup  to_dropoff  Vendor_id  \\\n",
       "0                           31.900000      1.348       0.489          1   \n",
       "1                           30.883333      0.359       0.513          1   \n",
       "2                           32.666667      0.735       0.684          1   \n",
       "3                           40.600000      0.166       2.121          1   \n",
       "4                           35.883333      2.924       2.898          1   \n",
       "\n",
       "   llueve  ph  \n",
       "0       1   0  \n",
       "1       1   0  \n",
       "2       1   0  \n",
       "3       1   0  \n",
       "4       1   0  "
      ]
     },
     "execution_count": 27,
     "metadata": {},
     "output_type": "execute_result"
    }
   ],
   "source": [
    "df.head()"
   ]
  },
  {
   "cell_type": "markdown",
   "metadata": {},
   "source": [
    "## ERROR que trae el modelo actual"
   ]
  },
  {
   "cell_type": "code",
   "execution_count": 28,
   "metadata": {},
   "outputs": [],
   "source": [
    "from sklearn.metrics import mean_absolute_error, mean_squared_error"
   ]
  },
  {
   "cell_type": "code",
   "execution_count": 29,
   "metadata": {},
   "outputs": [
    {
     "data": {
      "text/plain": [
       "(12.04, 8.2)"
      ]
     },
     "execution_count": 29,
     "metadata": {},
     "output_type": "execute_result"
    }
   ],
   "source": [
    "Z = df[df['Vendor_id']<12]\n",
    "RMSE = np.sqrt(mean_squared_error(Z['avg_actual_delivery_time_minutes'], Z['avg_promised_delivery_time_minutes'])).round(2)\n",
    "MAE = mean_absolute_error(Z['avg_actual_delivery_time_minutes'], Z['avg_promised_delivery_time_minutes']).round(2)\n",
    "RMSE, MAE"
   ]
  },
  {
   "cell_type": "markdown",
   "metadata": {},
   "source": [
    "##### Teniendo en cuente que revise manualmente los restaurantes responsables del 25% de los pedidos,\n",
    "##### paso a hacer un modelo reducido"
   ]
  },
  {
   "cell_type": "code",
   "execution_count": 30,
   "metadata": {},
   "outputs": [],
   "source": [
    "X = df[df['Vendor_id']<12].drop(['avg_actual_delivery_time_minutes','avg_promised_delivery_time_minutes'], axis=1)\n",
    "X = pd.get_dummies(X, columns=['Vendor_id', 'Fecha']).values"
   ]
  },
  {
   "cell_type": "code",
   "execution_count": 31,
   "metadata": {},
   "outputs": [
    {
     "data": {
      "text/plain": [
       "(39172, 24)"
      ]
     },
     "execution_count": 31,
     "metadata": {},
     "output_type": "execute_result"
    }
   ],
   "source": [
    "X.shape"
   ]
  },
  {
   "cell_type": "code",
   "execution_count": 32,
   "metadata": {},
   "outputs": [],
   "source": [
    "y = df[df['Vendor_id']<12]['avg_actual_delivery_time_minutes'].values"
   ]
  },
  {
   "cell_type": "code",
   "execution_count": 33,
   "metadata": {},
   "outputs": [],
   "source": [
    "from sklearn.model_selection import train_test_split\n",
    "X_train, X_test, y_train, y_test = train_test_split(X, y, test_size=0.2, random_state=912)"
   ]
  },
  {
   "cell_type": "code",
   "execution_count": 34,
   "metadata": {},
   "outputs": [],
   "source": [
    "from sklearn.preprocessing import StandardScaler, MinMaxScaler"
   ]
  },
  {
   "cell_type": "code",
   "execution_count": 35,
   "metadata": {},
   "outputs": [],
   "source": [
    "scaler = StandardScaler()\n",
    "#scaler = MinMaxScaler()"
   ]
  },
  {
   "cell_type": "code",
   "execution_count": 36,
   "metadata": {},
   "outputs": [],
   "source": [
    "X_train = scaler.fit_transform(X_train)"
   ]
  },
  {
   "cell_type": "code",
   "execution_count": 37,
   "metadata": {},
   "outputs": [],
   "source": [
    "X_test = scaler.transform(X_test)"
   ]
  },
  {
   "cell_type": "markdown",
   "metadata": {},
   "source": [
    "# Creacion de la Red Neuronal"
   ]
  },
  {
   "cell_type": "code",
   "execution_count": 38,
   "metadata": {},
   "outputs": [],
   "source": [
    "from tensorflow.keras.models import Sequential\n",
    "from tensorflow.keras.layers import Dense, Activation,Dropout\n",
    "from tensorflow.keras.callbacks import EarlyStopping"
   ]
  },
  {
   "cell_type": "code",
   "execution_count": 39,
   "metadata": {},
   "outputs": [],
   "source": [
    "early_stop = EarlyStopping(monitor='val_loss', mode='min', patience=4, verbose=1)"
   ]
  },
  {
   "cell_type": "code",
   "execution_count": 40,
   "metadata": {},
   "outputs": [],
   "source": [
    "model = Sequential()\n",
    "\n",
    "# input layer\n",
    "model.add(Dense(25,  activation='relu'))\n",
    "\n",
    "# hidden layer\n",
    "model.add(Dense(50, activation='relu'))\n",
    "model.add(Dropout(0.25))\n",
    "\n",
    "# hidden layer\n",
    "model.add(Dense(50, activation='relu'))\n",
    "model.add(Dropout(0.25))\n",
    "\n",
    "# hidden layer\n",
    "model.add(Dense(25, activation='relu'))\n",
    "model.add(Dropout(0.25))\n",
    "\n",
    "# output layer\n",
    "model.add(Dense(1, kernel_initializer='normal'))\n",
    "\n",
    "# Compile model\n",
    "model.compile(loss='mean_squared_error', optimizer='adam')"
   ]
  },
  {
   "cell_type": "markdown",
   "metadata": {},
   "source": [
    "## Fit Modelo"
   ]
  },
  {
   "cell_type": "code",
   "execution_count": 41,
   "metadata": {},
   "outputs": [
    {
     "name": "stdout",
     "output_type": "stream",
     "text": [
      "Train on 31337 samples, validate on 7835 samples\n",
      "Epoch 1/200\n",
      "31337/31337 [==============================] - 5s 166us/sample - loss: 277.1234 - val_loss: 187.2222\n",
      "Epoch 2/200\n",
      "31337/31337 [==============================] - 4s 129us/sample - loss: 220.7853 - val_loss: 188.0343\n",
      "Epoch 3/200\n",
      "31337/31337 [==============================] - 4s 125us/sample - loss: 216.7122 - val_loss: 177.6636\n",
      "Epoch 4/200\n",
      "31337/31337 [==============================] - 5s 151us/sample - loss: 213.7578 - val_loss: 179.3037\n",
      "Epoch 5/200\n",
      "31337/31337 [==============================] - 4s 142us/sample - loss: 209.5244 - val_loss: 184.5381\n",
      "Epoch 6/200\n",
      "31337/31337 [==============================] - 4s 136us/sample - loss: 207.7873 - val_loss: 178.4378\n",
      "Epoch 7/200\n",
      "31337/31337 [==============================] - 4s 132us/sample - loss: 208.2204 - val_loss: 180.5582\n",
      "Epoch 00007: early stopping\n"
     ]
    },
    {
     "data": {
      "text/plain": [
       "<tensorflow.python.keras.callbacks.History at 0x7faed30408>"
      ]
     },
     "execution_count": 41,
     "metadata": {},
     "output_type": "execute_result"
    }
   ],
   "source": [
    "model.fit(X_train, y_train, epochs=200, validation_data=(X_test, y_test), batch_size=25, callbacks=[early_stop])"
   ]
  },
  {
   "cell_type": "code",
   "execution_count": 42,
   "metadata": {},
   "outputs": [
    {
     "data": {
      "text/plain": [
       "{'loss': [277.12336003222305,\n",
       "  220.78530990559685,\n",
       "  216.71220097065688,\n",
       "  213.75782741550648,\n",
       "  209.52441709823796,\n",
       "  207.78725719552332,\n",
       "  208.2204349564202],\n",
       " 'val_loss': [187.22222674478752,\n",
       "  188.03432238931174,\n",
       "  177.66363210623328,\n",
       "  179.30372898854034,\n",
       "  184.53807228297737,\n",
       "  178.4378206390595,\n",
       "  180.55821405007873]}"
      ]
     },
     "execution_count": 42,
     "metadata": {},
     "output_type": "execute_result"
    }
   ],
   "source": [
    "model.history.history"
   ]
  },
  {
   "cell_type": "code",
   "execution_count": 43,
   "metadata": {},
   "outputs": [],
   "source": [
    "loss = pd.DataFrame(model.history.history)"
   ]
  },
  {
   "cell_type": "code",
   "execution_count": 44,
   "metadata": {},
   "outputs": [
    {
     "data": {
      "text/plain": [
       "<matplotlib.axes._subplots.AxesSubplot at 0x7fafcbc308>"
      ]
     },
     "execution_count": 44,
     "metadata": {},
     "output_type": "execute_result"
    },
    {
     "data": {
      "image/png": "[encoded data removed]",
      "text/plain": [
       "<Figure size 432x288 with 1 Axes>"
      ]
     },
     "metadata": {
      "needs_background": "light"
     },
     "output_type": "display_data"
    }
   ],
   "source": [
    "loss.plot()"
   ]
  },
  {
   "cell_type": "code",
   "execution_count": 45,
   "metadata": {},
   "outputs": [],
   "source": [
    "from sklearn.metrics import mean_absolute_error, mean_squared_error"
   ]
  },
  {
   "cell_type": "code",
   "execution_count": 46,
   "metadata": {},
   "outputs": [
    {
     "data": {
      "text/plain": [
       "(13.44, 9.4)"
      ]
     },
     "execution_count": 46,
     "metadata": {},
     "output_type": "execute_result"
    }
   ],
   "source": [
    "y_pred = model.predict(X_test)\n",
    "RMSE = np.sqrt(mean_squared_error(y_test, y_pred)).round(2)\n",
    "MAE = mean_absolute_error(y_test, y_pred).round(2)\n",
    "RMSE, MAE"
   ]
  },
  {
   "cell_type": "code",
   "execution_count": null,
   "metadata": {},
   "outputs": [],
   "source": []
  }
 ],
 "metadata": {
  "kernelspec": {
   "display_name": "Python 3 (ipykernel)",
   "language": "python",
   "name": "python3"
  },
  "language_info": {
   "codemirror_mode": {
    "name": "ipython",
    "version": 3
   },
   "file_extension": ".py",
   "mimetype": "text/x-python",
   "name": "python",
   "nbconvert_exporter": "python",
   "pygments_lexer": "ipython3",
   "version": "3.7.11"
  }
 },
 "nbformat": 4,
 "nbformat_minor": 4
}
